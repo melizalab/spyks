{
 "cells": [
  {
   "cell_type": "markdown",
   "metadata": {},
   "source": [
    "## Example NaKL Model"
   ]
  },
  {
   "cell_type": "code",
   "execution_count": 5,
   "metadata": {},
   "outputs": [],
   "source": [
    "# imports:\n",
    "import os\n",
    "import spyks.core as spk\n",
    "from spyks import build"
   ]
  },
  {
   "cell_type": "markdown",
   "metadata": {},
   "source": [
    "To define the model, we need to specify the state variables, how they change in time (the equations of motion), and any forcing terms and parameters. The string below contains these definition in YAML format. Normally we'd put this descriptor in a `.yml` file, but we can also compile it on the fly."
   ]
  },
  {
   "cell_type": "code",
   "execution_count": 2,
   "metadata": {},
   "outputs": [],
   "source": [
    "# define the model:\n",
    "doc = \"\"\"\n",
    "---\n",
    "name: nakl\n",
    "description: biophysical neuron model with minimal Na, K, leak conductances\n",
    "author: dmeliza\n",
    "version: 1.0\n",
    "state:\n",
    "  V: -70 mV\n",
    "  m: 0\n",
    "  h: 0\n",
    "  n: 0\n",
    "forcing:\n",
    "  Iinj: 0 pA\n",
    "equations:\n",
    "  V: 1/C * ((gna*m*m*m*h*(Ena - V)) + (gk*n*n*n*n*(Ek - V)) + (gl*(El-V)) + Iinj)\n",
    "  m:\n",
    "    inf: (1+tanh((V - vm)/dvm))/2\n",
    "    tau: (tm0 + tm1 * (1 - tanh((V - vmt)/dvmt)**2))\n",
    "  h:\n",
    "    inf: (1+tanh((V - vh)/dvh))/2\n",
    "    tau: (th0 + th1 * (1 - tanh((V - vht)/dvht)**2))\n",
    "  n:\n",
    "    inf: (1+tanh((V - vn)/dvn))/2\n",
    "    tau: (tn0 + tn1 * (1 - tanh((V - vnt)/dvnt)**2))\n",
    "parameters:\n",
    "  C: 250 pF\n",
    "  gna: 120 nS\n",
    "  Ena: 50 mV\n",
    "  gk: 20 nS\n",
    "  Ek: -77 mV\n",
    "  gl: 0.3 nS\n",
    "  El: -54.4 mV\n",
    "  vm: -40 mV\n",
    "  dvm: 15 mV\n",
    "  tm0: 0.1 ms\n",
    "  tm1: 0.4 ms\n",
    "  vmt: -40 mV\n",
    "  dvmt: 15 mV\n",
    "  vh: -60 mV\n",
    "  dvh: -15 mV\n",
    "  th0: 1 ms\n",
    "  th1: 7 ms\n",
    "  vht: -60 mV\n",
    "  dvht: -15 mV\n",
    "  vn: -55 mV\n",
    "  dvn: 40 mV\n",
    "  tn0: 1 ms\n",
    "  tn1: 5 ms\n",
    "  vnt: -55 mV\n",
    "  dvnt: -30 mV\n",
    "\"\"\""
   ]
  },
  {
   "cell_type": "markdown",
   "metadata": {},
   "source": [
    "Normally we'd use `spykscc` to build the extension module and then just import it, but for illustration purposes we'll build the module from the string descriptor."
   ]
  },
  {
   "cell_type": "code",
   "execution_count": 6,
   "metadata": {},
   "outputs": [
    {
     "name": "stdout",
     "output_type": "stream",
     "text": [
      "running build_ext\n",
      "creating var\n",
      "creating var/folders\n",
      "creating var/folders/gw\n",
      "creating var/folders/gw/mrwrh00d50n1p1mp95935s6w0000gn\n",
      "creating var/folders/gw/mrwrh00d50n1p1mp95935s6w0000gn/T\n",
      "/usr/bin/clang -Wno-unused-result -Wsign-compare -Wunreachable-code -fno-common -dynamic -DNDEBUG -g -fwrapv -O3 -Wall -Wstrict-prototypes -pipe -Os -I/Users/dmeliza/.virtualenvs/akit/include -I/opt/local/Library/Frameworks/Python.framework/Versions/3.5/include/python3.5m -c /var/folders/gw/mrwrh00d50n1p1mp95935s6w0000gn/T/tmpv2ptrs3q.cpp -o var/folders/gw/mrwrh00d50n1p1mp95935s6w0000gn/T/tmpv2ptrs3q.o -std=c++14\n",
      "/usr/bin/clang -Wno-unused-result -Wsign-compare -Wunreachable-code -fno-common -dynamic -DNDEBUG -g -fwrapv -O3 -Wall -Wstrict-prototypes -pipe -Os -I/Users/dmeliza/.virtualenvs/akit/include -I/opt/local/Library/Frameworks/Python.framework/Versions/3.5/include/python3.5m -c /var/folders/gw/mrwrh00d50n1p1mp95935s6w0000gn/T/tmphak62npf.cpp -o var/folders/gw/mrwrh00d50n1p1mp95935s6w0000gn/T/tmphak62npf.o -fvisibility=hidden\n",
      "/usr/bin/clang -Wno-unused-result -Wsign-compare -Wunreachable-code -fno-common -dynamic -DNDEBUG -g -fwrapv -O3 -Wall -Wstrict-prototypes -pipe -Os -I/Users/dmeliza/.virtualenvs/akit/include -I/opt/local/Library/Frameworks/Python.framework/Versions/3.5/include/python3.5m -c /var/folders/gw/mrwrh00d50n1p1mp95935s6w0000gn/T/tmp3myvaz5z.cpp -o var/folders/gw/mrwrh00d50n1p1mp95935s6w0000gn/T/tmp3myvaz5z.o -ffast-math\n",
      "/usr/bin/clang -Wno-unused-result -Wsign-compare -Wunreachable-code -fno-common -dynamic -DNDEBUG -g -fwrapv -O3 -Wall -Wstrict-prototypes -pipe -Os -I/Users/dmeliza/.virtualenvs/akit/include -I/opt/local/Library/Frameworks/Python.framework/Versions/3.5/include/python3.5m -c /var/folders/gw/mrwrh00d50n1p1mp95935s6w0000gn/T/tmp5o8i35h4.cpp -o var/folders/gw/mrwrh00d50n1p1mp95935s6w0000gn/T/tmp5o8i35h4.o -flto\n",
      "building 'nakl' extension\n",
      "/usr/bin/clang -Wno-unused-result -Wsign-compare -Wunreachable-code -fno-common -dynamic -DNDEBUG -g -fwrapv -O3 -Wall -Wstrict-prototypes -pipe -Os -I/Users/dmeliza/.virtualenvs/akit/include/site/python3.5 -I/Users/dmeliza/.virtualenvs/akit/include/site/python3.5 -I/opt/local/include -I/Users/dmeliza/.virtualenvs/akit/include/site/python3.5 -I/Users/dmeliza/.virtualenvs/akit/include -I/opt/local/Library/Frameworks/Python.framework/Versions/3.5/include/python3.5m -c ./nakl.cpp -o /var/folders/gw/mrwrh00d50n1p1mp95935s6w0000gn/T/tmpvd4csad3/./nakl.o -stdlib=libc++ -mmacosx-version-min=10.7 -DVERSION_INFO=\"1.0\" -std=c++14 -fvisibility=hidden -ffast-math -flto\n",
      "/usr/bin/clang++ -bundle -undefined dynamic_lookup -L/opt/local/lib -Wl,-headerpad_max_install_names /var/folders/gw/mrwrh00d50n1p1mp95935s6w0000gn/T/tmpvd4csad3/./nakl.o -o /var/folders/gw/mrwrh00d50n1p1mp95935s6w0000gn/T/tmpvd4csad3/nakl.cpython-35m-darwin.so\n"
     ]
    }
   ],
   "source": [
    "from spyks import validate, build\n",
    "\n",
    "# parse the model\n",
    "pymodel = spk.load_model(doc)\n",
    "# validate units\n",
    "validate.check_symbols(pymodel)\n",
    "validate.check_equations(pymodel)\n",
    "# generate the C++ code\n",
    "build_dir = os.curdir\n",
    "cppfile = os.path.join(build_dir, pymodel[\"name\"] + \".cpp\")\n",
    "build.write_cppfile(pymodel, cppfile)\n",
    "build.build_module(cppfile, pymodel[\"name\"], build_dir, version=pymodel[\"version\"])"
   ]
  },
  {
   "cell_type": "code",
   "execution_count": 7,
   "metadata": {},
   "outputs": [],
   "source": [
    "# load the module\n",
    "nakl = spk.load_module(pymodel, build_dir)"
   ]
  },
  {
   "cell_type": "code",
   "execution_count": null,
   "metadata": {},
   "outputs": [],
   "source": [
    "# "
   ]
  }
 ],
 "metadata": {
  "kernelspec": {
   "display_name": "akit",
   "language": "python",
   "name": "akit"
  },
  "language_info": {
   "codemirror_mode": {
    "name": "ipython",
    "version": 3
   },
   "file_extension": ".py",
   "mimetype": "text/x-python",
   "name": "python",
   "nbconvert_exporter": "python",
   "pygments_lexer": "ipython3",
   "version": "3.5.4"
  }
 },
 "nbformat": 4,
 "nbformat_minor": 2
}
